{
 "cells": [
  {
   "cell_type": "code",
   "execution_count": 1,
   "metadata": {},
   "outputs": [
    {
     "name": "stderr",
     "output_type": "stream",
     "text": [
      "Using TensorFlow backend.\n",
      "/Users/Abhi/anaconda3/lib/python3.6/site-packages/nltk/twitter/__init__.py:20: UserWarning: The twython library has not been installed. Some functionality from the twitter package will not be available.\n",
      "  warnings.warn(\"The twython library has not been installed. \"\n"
     ]
    }
   ],
   "source": [
    "import keras\n",
    "import os\n",
    "import numpy as np\n",
    "import pandas as pd\n",
    "import matplotlib.pyplot as plt\n",
    "import nltk\n",
    "from nltk.sentiment.vader import SentimentIntensityAnalyzer\n",
    "%matplotlib inline"
   ]
  },
  {
   "cell_type": "markdown",
   "metadata": {},
   "source": [
    "# Effect of News on Stock Price Movement"
   ]
  },
  {
   "cell_type": "markdown",
   "metadata": {},
   "source": [
    "This project consists of 2 main parts, sentiment analysis and multivariate regression. \n",
    "\n",
    "## Problem Statement\n",
    "Given a stock's previous data and some news information, can we predict if it's price will go up or down?\n",
    "\n",
    "## Simplifying the Problem\n",
    "\n",
    "Since we just want to maximize stock return, we can reduce this problem to binary classification, 0 representing a loss (net change < 0) and 1 representing a win (net change ≥ 0). Now, the second part of this problem is also classification.\n",
    "\n",
    "In order to effectively predict the effect of news on stock prices, the news must have a sentiment score, which can be applied to a separate model that predicts the effect of this sentiment on the stock's price.\n",
    "\n",
    "Also, due to time constraints, I've opted to train and test the model on a single index, the Dow Jones industrial average.\n",
    "\n",
    "I began by gathering news data, as well as corresponding stock data, from this link: https://www.kaggle.com/aaron7sun/stocknews#RedditNews.csv"
   ]
  },
  {
   "cell_type": "markdown",
   "metadata": {},
   "source": [
    "## DOW Jones From 2008 to 2016"
   ]
  },
  {
   "cell_type": "code",
   "execution_count": 63,
   "metadata": {},
   "outputs": [
    {
     "data": {
      "image/png": "[encoded data removed]",
      "text/plain": [
       "<Figure size 432x288 with 1 Axes>"
      ]
     },
     "metadata": {
      "needs_background": "light"
     },
     "output_type": "display_data"
    }
   ],
   "source": [
    "plt.plot(stocks['Date'], stocks['High'])\n",
    "plt.show()"
   ]
  },
  {
   "cell_type": "markdown",
   "metadata": {},
   "source": [
    "## Overview of Pipeline\n",
    "#### News, Stock Chart $\\rightarrow$ Sentiment Class for Stock $\\rightarrow$ Prediction (Increase/Decrease)\n",
    "\n",
    "## Sentiment Analysis Model\n",
    "This relies heavily on NLTK. Given more time, I'd use the implementation from Homework 6."
   ]
  },
  {
   "cell_type": "code",
   "execution_count": 59,
   "metadata": {},
   "outputs": [
    {
     "name": "stdout",
     "output_type": "stream",
     "text": [
      "These 20 Companies have had a great year. : 1\n",
      "Many businesses are experiencing loss. : 0\n",
      "It has been a successful year for tech. : 1\n",
      "Net sentiment: 0.8926000000000001\n"
     ]
    }
   ],
   "source": [
    "class SentimentModel:\n",
    "    def __init__(self):\n",
    "        self.model = SentimentIntensityAnalyzer()\n",
    "    \n",
    "    def predict(self, text):\n",
    "        tup = self.model.polarity_scores(text)['compound']\n",
    "        sent = 1 if tup >= 0 else 0\n",
    "        return sent\n",
    "    \n",
    "    def net_sentiment(self, text_list):\n",
    "        total = 0\n",
    "        \n",
    "        for t in text_list:\n",
    "            tup = self.model.polarity_scores(str(t))['compound']\n",
    "            total += tup\n",
    "        \n",
    "        return total \n",
    "        \n",
    "            \n",
    "m = SentimentModel()\n",
    "tests = ['These 20 Companies have had a great year.', 'Many businesses are experiencing loss.', 'It has been a successful year for tech.']\n",
    "for t in tests:\n",
    "    print(\"{} : {}\".format(t, m.predict(t)))  \n",
    "print(\"Net sentiment: {}\".format(m.net_sentiment(tests)))"
   ]
  },
  {
   "cell_type": "markdown",
   "metadata": {},
   "source": [
    "## Stock Data"
   ]
  },
  {
   "cell_type": "code",
   "execution_count": 2,
   "metadata": {},
   "outputs": [],
   "source": [
    "stocks = pd.read_csv('stocks.csv')\n",
    "news = pd.read_csv('stocknews/Combined_News_DJIA.csv')"
   ]
  },
  {
   "cell_type": "code",
   "execution_count": 6,
   "metadata": {},
   "outputs": [
    {
     "data": {
      "text/html": [
       "<div>\n",
       "<style scoped>\n",
       "    .dataframe tbody tr th:only-of-type {\n",
       "        vertical-align: middle;\n",
       "    }\n",
       "\n",
       "    .dataframe tbody tr th {\n",
       "        vertical-align: top;\n",
       "    }\n",
       "\n",
       "    .dataframe thead th {\n",
       "        text-align: right;\n",
       "    }\n",
       "</style>\n",
       "<table border=\"1\" class=\"dataframe\">\n",
       "  <thead>\n",
       "    <tr style=\"text-align: right;\">\n",
       "      <th></th>\n",
       "      <th>Unnamed: 0</th>\n",
       "      <th>Date</th>\n",
       "      <th>Open</th>\n",
       "      <th>High</th>\n",
       "      <th>Low</th>\n",
       "      <th>Close</th>\n",
       "      <th>Volume</th>\n",
       "      <th>Adj Close</th>\n",
       "      <th>return</th>\n",
       "      <th>sentiment</th>\n",
       "      <th>previous return</th>\n",
       "      <th>previous close</th>\n",
       "      <th>change</th>\n",
       "    </tr>\n",
       "  </thead>\n",
       "  <tbody>\n",
       "    <tr>\n",
       "      <th>0</th>\n",
       "      <td>1988</td>\n",
       "      <td>2008-08-08</td>\n",
       "      <td>11432.089844</td>\n",
       "      <td>11759.959961</td>\n",
       "      <td>11388.040039</td>\n",
       "      <td>11734.320312</td>\n",
       "      <td>212830000</td>\n",
       "      <td>11734.320312</td>\n",
       "      <td>1</td>\n",
       "      <td>-7.7360</td>\n",
       "      <td>0</td>\n",
       "      <td>11431.430000</td>\n",
       "      <td>302.230468</td>\n",
       "    </tr>\n",
       "    <tr>\n",
       "      <th>1</th>\n",
       "      <td>1987</td>\n",
       "      <td>2008-08-11</td>\n",
       "      <td>11729.669922</td>\n",
       "      <td>11867.110352</td>\n",
       "      <td>11675.530273</td>\n",
       "      <td>11782.349609</td>\n",
       "      <td>183190000</td>\n",
       "      <td>11782.349609</td>\n",
       "      <td>1</td>\n",
       "      <td>-3.0185</td>\n",
       "      <td>1</td>\n",
       "      <td>11734.320312</td>\n",
       "      <td>52.679687</td>\n",
       "    </tr>\n",
       "    <tr>\n",
       "      <th>2</th>\n",
       "      <td>1986</td>\n",
       "      <td>2008-08-12</td>\n",
       "      <td>11781.700195</td>\n",
       "      <td>11782.349609</td>\n",
       "      <td>11601.519531</td>\n",
       "      <td>11642.469727</td>\n",
       "      <td>173590000</td>\n",
       "      <td>11642.469727</td>\n",
       "      <td>1</td>\n",
       "      <td>-5.4389</td>\n",
       "      <td>1</td>\n",
       "      <td>11782.349609</td>\n",
       "      <td>-139.230468</td>\n",
       "    </tr>\n",
       "    <tr>\n",
       "      <th>3</th>\n",
       "      <td>1985</td>\n",
       "      <td>2008-08-13</td>\n",
       "      <td>11632.809570</td>\n",
       "      <td>11633.780273</td>\n",
       "      <td>11453.339844</td>\n",
       "      <td>11532.959961</td>\n",
       "      <td>182550000</td>\n",
       "      <td>11532.959961</td>\n",
       "      <td>1</td>\n",
       "      <td>-4.2181</td>\n",
       "      <td>1</td>\n",
       "      <td>11642.469727</td>\n",
       "      <td>-99.849609</td>\n",
       "    </tr>\n",
       "    <tr>\n",
       "      <th>4</th>\n",
       "      <td>1984</td>\n",
       "      <td>2008-08-14</td>\n",
       "      <td>11532.070312</td>\n",
       "      <td>11718.280273</td>\n",
       "      <td>11450.889648</td>\n",
       "      <td>11615.929688</td>\n",
       "      <td>159790000</td>\n",
       "      <td>11615.929688</td>\n",
       "      <td>0</td>\n",
       "      <td>-3.2687</td>\n",
       "      <td>1</td>\n",
       "      <td>11532.959961</td>\n",
       "      <td>83.859376</td>\n",
       "    </tr>\n",
       "  </tbody>\n",
       "</table>\n",
       "</div>"
      ],
      "text/plain": [
       "   Unnamed: 0        Date          Open          High           Low  \\\n",
       "0        1988  2008-08-08  11432.089844  11759.959961  11388.040039   \n",
       "1        1987  2008-08-11  11729.669922  11867.110352  11675.530273   \n",
       "2        1986  2008-08-12  11781.700195  11782.349609  11601.519531   \n",
       "3        1985  2008-08-13  11632.809570  11633.780273  11453.339844   \n",
       "4        1984  2008-08-14  11532.070312  11718.280273  11450.889648   \n",
       "\n",
       "          Close     Volume     Adj Close  return  sentiment  previous return  \\\n",
       "0  11734.320312  212830000  11734.320312       1    -7.7360                0   \n",
       "1  11782.349609  183190000  11782.349609       1    -3.0185                1   \n",
       "2  11642.469727  173590000  11642.469727       1    -5.4389                1   \n",
       "3  11532.959961  182550000  11532.959961       1    -4.2181                1   \n",
       "4  11615.929688  159790000  11615.929688       0    -3.2687                1   \n",
       "\n",
       "   previous close      change  \n",
       "0    11431.430000  302.230468  \n",
       "1    11734.320312   52.679687  \n",
       "2    11782.349609 -139.230468  \n",
       "3    11642.469727  -99.849609  \n",
       "4    11532.959961   83.859376  "
      ]
     },
     "execution_count": 6,
     "metadata": {},
     "output_type": "execute_result"
    }
   ],
   "source": [
    "#Data Cleaning, adding sentiment scores to each row\n",
    "\"\"\"return_ints = []\n",
    "nets = []\n",
    "\n",
    "for i in range(1989):\n",
    "    news_row = news.loc[i]\n",
    "    stock_row = stocks.loc[i]\n",
    "    \n",
    "    news_texts = [news_row['Top{}'.format(x)] for x in range(1, 26)]\n",
    "    net_score = m.net_sentiment(news_texts)\n",
    "    \n",
    "    nets.append(net_score)\n",
    "    \n",
    "    inc = stock_row['return']\n",
    "    as_int = 1 if inc else 0\n",
    "    return_ints.append(as_int)\n",
    "    \n",
    "score_series = pd.Series(nets)\n",
    "ints = pd.Series(return_ints)\n",
    "\n",
    "stocks['return'] = ints.values\n",
    "stocks['sentiment'] = score_series.values\n",
    "\"\"\"\n",
    "prev_close = [11431.43] + list(stocks['Close'])[:-1]\n",
    "prev_return = [0] + list(stocks['return'])[:-1]\n",
    "\n",
    "stocks['previous return'] = prev_return\n",
    "stocks['previous close'] = prev_close\n",
    "stocks['change'] = stocks['Close']-stocks['Open']\n",
    "\n",
    "def class_data(stocks):\n",
    "    X, y = stocks[['Open', 'previous return', 'previous close', 'sentiment']], stocks['return']\n",
    "    split = int(len(X)*0.7)\n",
    "    end_num = len(X)-split\n",
    "    X_train, y_train, X_test, y_test = X.head(split), y[:split], X.tail(end_num), y[split:]\n",
    "    \n",
    "    return (X_train, list(y_train), X_test, list(y_test))\n",
    "\n",
    "def reg_data(stocks):\n",
    "    X, y = stocks[['Open', 'previous return', 'previous close', 'sentiment']], stocks['change']\n",
    "    split = int(len(X)*0.7)\n",
    "    end_num = len(X)-split\n",
    "    X_train, y_train, X_test, y_test = X.head(split), y[:split], X.tail(end_num), y[split:]\n",
    "    \n",
    "    return (X_train, list(y_train), X_test, list(y_test))\n",
    "\n",
    "X_train, y_train, X_test, y_test = class_data(stocks)\n",
    "classifier_data = [X_train, y_train, X_test, y_test]\n",
    "\n",
    "X_train, y_train, X_test, y_test = reg_data(stocks)\n",
    "regressor_data = [X_train, y_train, X_test, y_test]\n",
    "\n",
    "stocks.head()"
   ]
  },
  {
   "cell_type": "markdown",
   "metadata": {},
   "source": [
    "## Sentiment $\\rightarrow$ Stock Prediction\n",
    "\n",
    "At this point, we can use the 'Open', 'previous return', 'previous close', and 'sentiment' columns to predict either 'return' or 'change'. By predicting one of two columns, we can re-model this problem as either classification or regression.\n",
    "\n",
    "### Goal\n",
    "Ideally, we need classification accuracy to be at least 50%, and regression accuracy (mean absolute percent error) to be within 15%. \n",
    "\n",
    "## Approaches\n",
    "I implemented neural network, random forest, and a few other approaches"
   ]
  },
  {
   "cell_type": "code",
   "execution_count": 4,
   "metadata": {
    "scrolled": true
   },
   "outputs": [],
   "source": [
    "#Neural Network (keras)\n",
    "from keras.models import Sequential\n",
    "from keras.layers import Dense, Dropout\n",
    "from keras.optimizers import adam\n",
    "\n",
    "class StockPredict:\n",
    "    \n",
    "    def __init__(self):\n",
    "        model = Sequential()\n",
    "        model.add(Dense(64, input_dim=4, activation='relu'))\n",
    "        model.add(Dropout(0.5))\n",
    "        model.add(Dense(64, activation='tanh'))\n",
    "        model.add(Dropout(0.5))\n",
    "        model.add(Dense(1, activation='sigmoid'))\n",
    "        \n",
    "        self.nn = model\n",
    "        \n",
    "        self.nn.compile(loss='binary_crossentropy',\n",
    "              optimizer='rmsprop', metrics=['accuracy'])\n",
    "        \n",
    "    def train(self, dataX, dataY, e=50, batch=32):\n",
    "        self.nn.fit(X_train, y_train, epochs=e, batch_size=batch, verbose=0)\n",
    "        \n",
    "    def predict(self, x):\n",
    "        return self.nn.predict(x)\n",
    "        \n",
    "    def score(self, testX, testY, bs=100):\n",
    "        return self.nn.evaluate(testX, testY, batch_size=bs)"
   ]
  },
  {
   "cell_type": "code",
   "execution_count": 5,
   "metadata": {
    "scrolled": true
   },
   "outputs": [
    {
     "name": "stdout",
     "output_type": "stream",
     "text": [
      "597/597 [==============================] - 0s 269us/step\n"
     ]
    },
    {
     "data": {
      "text/plain": [
       "[0.6907956510332961, 0.5376884302801423]"
      ]
     },
     "execution_count": 5,
     "metadata": {},
     "output_type": "execute_result"
    }
   ],
   "source": [
    "stock_model = StockPredict()\n",
    "\n",
    "X_train, y_train, X_test, y_test = classifier_data\n",
    "\n",
    "stock_model.train(X_train, y_train, e=30)\n",
    "score = stock_model.score(X_test, y_test)\n",
    "\n",
    "score"
   ]
  },
  {
   "cell_type": "markdown",
   "metadata": {},
   "source": [
    "### Error Function for sklearn models"
   ]
  },
  {
   "cell_type": "code",
   "execution_count": null,
   "metadata": {},
   "outputs": [],
   "source": [
    "def model_error(model, x, y, classifier=True):\n",
    "    index = 0\n",
    "    error = 0\n",
    "    \n",
    "    for yhat in model.predict(x):\n",
    "        ystar = y[index]\n",
    "        \n",
    "        if classifier:\n",
    "            if yhat == ystar:\n",
    "                error += 1\n",
    "        else:\n",
    "            error += abs(yhat-ystar)\n",
    "\n",
    "        index += 1\n",
    "        \n",
    "    return error/index"
   ]
  },
  {
   "cell_type": "code",
   "execution_count": 17,
   "metadata": {},
   "outputs": [
    {
     "name": "stdout",
     "output_type": "stream",
     "text": [
      "Regression Score (MAPE): 118.94290698442212\n",
      "Classification Score: 0.5309882747068677%\n"
     ]
    },
    {
     "name": "stderr",
     "output_type": "stream",
     "text": [
      "/Users/Abhi/anaconda3/lib/python3.6/site-packages/sklearn/ensemble/forest.py:248: FutureWarning: The default value of n_estimators will change from 10 in version 0.20 to 100 in 0.22.\n",
      "  \"10 in version 0.20 to 100 in 0.22.\", FutureWarning)\n",
      "/Users/Abhi/anaconda3/lib/python3.6/site-packages/sklearn/ensemble/forest.py:248: FutureWarning: The default value of n_estimators will change from 10 in version 0.20 to 100 in 0.22.\n",
      "  \"10 in version 0.20 to 100 in 0.22.\", FutureWarning)\n"
     ]
    }
   ],
   "source": [
    "#Random Forests\n",
    "from sklearn.ensemble import RandomForestClassifier, RandomForestRegressor\n",
    "\n",
    "model = RandomForestRegressor()\n",
    "X_train, y_train, X_test, y_test = regressor_data\n",
    "model.fit(X_train, y_train)\n",
    "score = model_error(model, X_test, y_test, classifier=False)\n",
    "print(\"Regression Score (MAPE)%: {}\".format(score))\n",
    "\n",
    "model = RandomForestClassifier()\n",
    "X_train, y_train, X_test, y_test = classifier_data\n",
    "model.fit(X_train, y_train)\n",
    "score = model_error(model, X_test, y_test, classifier=True)\n",
    "print(\"Classification Score: {}%\".format(score))"
   ]
  },
  {
   "cell_type": "code",
   "execution_count": 19,
   "metadata": {},
   "outputs": [
    {
     "name": "stdout",
     "output_type": "stream",
     "text": [
      "Classification Score: 0.5376884422110553%\n",
      "Regression Score (MAPE): 110.11160779466063%\n"
     ]
    }
   ],
   "source": [
    "from sklearn.linear_model import LogisticRegression, LinearRegression, SGDClassifier, SGDRegressor\n",
    "\n",
    "model = LogisticRegression(solver='lbfgs')\n",
    "X_train, y_train, X_test, y_test = classifier_data\n",
    "model.fit(X_train, y_train)\n",
    "score = model_error(model, X_test, y_test, classifier=True)\n",
    "print(\"Classification Score: {}%\".format(score))\n",
    "\n",
    "model = LinearRegression()\n",
    "X_train, y_train, X_test, y_test = regressor_data\n",
    "model.fit(X_train, y_train)\n",
    "score = model_error(model, X_test, y_test, classifier=False)\n",
    "print(\"Regression Score (MAPE): {}%\".format(score))"
   ]
  }
 ],
 "metadata": {
  "kernelspec": {
   "display_name": "Python 3",
   "language": "python",
   "name": "python3"
  },
  "language_info": {
   "codemirror_mode": {
    "name": "ipython",
    "version": 3
   },
   "file_extension": ".py",
   "mimetype": "text/x-python",
   "name": "python",
   "nbconvert_exporter": "python",
   "pygments_lexer": "ipython3",
   "version": "3.6.6"
  }
 },
 "nbformat": 4,
 "nbformat_minor": 2
}
